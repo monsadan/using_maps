{
 "cells": [
  {
   "cell_type": "markdown",
   "metadata": {},
   "source": [
    "# Usando Folium y GeoPandas para generar información"
   ]
  },
  {
   "cell_type": "code",
   "execution_count": 1,
   "metadata": {},
   "outputs": [],
   "source": [
    "import pandas as pd\n",
    "import numpy as np\n",
    "import json\n",
    "from shapely.geometry import shape\n",
    "usuario = 'DanielMonsalveMuñoz'"
   ]
  },
  {
   "cell_type": "markdown",
   "metadata": {},
   "source": [
    "### GeoPandas\n",
    "Se utiliza para realizar operaciones con información espacial"
   ]
  },
  {
   "cell_type": "code",
   "execution_count": 2,
   "metadata": {},
   "outputs": [],
   "source": [
    "import geopandas as gpd"
   ]
  },
  {
   "cell_type": "markdown",
   "metadata": {},
   "source": [
    "### Folium\n",
    "Se utiliza para generar los mapas interactivos"
   ]
  },
  {
   "cell_type": "code",
   "execution_count": 3,
   "metadata": {},
   "outputs": [],
   "source": [
    "import folium "
   ]
  },
  {
   "cell_type": "markdown",
   "metadata": {},
   "source": [
    "### Información para el ejemplo\n",
    "Se van a utilizar los datos qué tenemos disponibles para Medellín"
   ]
  },
  {
   "cell_type": "code",
   "execution_count": 4,
   "metadata": {},
   "outputs": [
    {
     "name": "stderr",
     "output_type": "stream",
     "text": [
      "/home/monsadan/anaconda3/lib/python3.8/site-packages/IPython/core/interactiveshell.py:3071: DtypeWarning: Columns (7,10,28,56,79) have mixed types.Specify dtype option on import or set low_memory=False.\n",
      "  has_raised = await self.run_ast_nodes(code_ast.body, cell_name,\n"
     ]
    },
    {
     "data": {
      "text/plain": [
       "(111467, 100)"
      ]
     },
     "execution_count": 4,
     "metadata": {},
     "output_type": "execute_result"
    }
   ],
   "source": [
    "#Leyendo propiedades\n",
    "path = r'/mnt/c/Users/{}/Pactia/Analítica & AI - Documentos/General/Bases de datos/Finca Raíz/fincaraiz_04_02_21.csv'\n",
    "propiedades = pd.read_csv(path.format(usuario))\n",
    "propiedades.drop_duplicates(subset='codigo_inmueble', inplace = True)\n",
    "propiedades.shape"
   ]
  },
  {
   "cell_type": "code",
   "execution_count": 5,
   "metadata": {},
   "outputs": [
    {
     "data": {
      "text/plain": [
       "(349, 11)"
      ]
     },
     "execution_count": 5,
     "metadata": {},
     "output_type": "execute_result"
    }
   ],
   "source": [
    "#Leyendo barrios\n",
    "barrios = pd.read_json('../Variables_Externas/Infraestructura_y_catastro/Historicos/Barrios_Veredas_medellin.json')\n",
    "barrios.shape"
   ]
  },
  {
   "cell_type": "code",
   "execution_count": 6,
   "metadata": {},
   "outputs": [
    {
     "data": {
      "text/plain": [
       "(10816, 8)"
      ]
     },
     "execution_count": 6,
     "metadata": {},
     "output_type": "execute_result"
    }
   ],
   "source": [
    "#Leyendo POT\n",
    "pot =  pd.read_excel('../Variables_Externas/Ordenamiento_territorial/Historicos/POT_UsoGeneralSueloMedellin.xlsx')\n",
    "pot.shape"
   ]
  },
  {
   "cell_type": "markdown",
   "metadata": {},
   "source": [
    "Para poder utilizar geopandas es necesario tener una columna de geometría qué es la qué las funciones van a reconocer \n",
    "y procesar, la información debe estar en el siguiente formato:\n",
    "\n",
    "**(Tipo de figura)(puntos de la figura)**\n",
    "\n",
    "Ejemplo:\n",
    "\n",
    "POINT (-75.69231 4.52666)"
   ]
  },
  {
   "cell_type": "markdown",
   "metadata": {},
   "source": [
    "### Convirtiendo coordenadas en formato adecuado de geometría\n",
    "En los datasets cargados no existe esta columna, debemos crearla:"
   ]
  },
  {
   "cell_type": "code",
   "execution_count": 7,
   "metadata": {},
   "outputs": [],
   "source": [
    "# En propiedades\n",
    "propiedades.dropna(subset=['latitud'], inplace = True)\n",
    "propiedades = propiedades[propiedades['latitud']>0]\n",
    "geo_propiedades = gpd.GeoDataFrame(propiedades, geometry=gpd.points_from_xy(propiedades.longitud, propiedades.latitud))"
   ]
  },
  {
   "cell_type": "code",
   "execution_count": 8,
   "metadata": {},
   "outputs": [],
   "source": [
    "# En barrios\n",
    "geometry_barrios = []\n",
    "for i in range(len(barrios)):\n",
    "    try:\n",
    "        type_ = barrios.iloc[i]['geometry.type']\n",
    "        coordinates = barrios.iloc[i]['geometry.coordinates']\n",
    "        dict_ = {'type':type_,'coordinates':coordinates}\n",
    "        geometry_barrios += [shape(dict_) ]\n",
    "    except: \n",
    "        geometry_barrios += [None]\n",
    "geo_barrios = gpd.GeoDataFrame(barrios, geometry = geometry_barrios)"
   ]
  },
  {
   "cell_type": "code",
   "execution_count": 9,
   "metadata": {},
   "outputs": [],
   "source": [
    "#En POT\n",
    "geometry_pot = []\n",
    "for i in pot['the_geom']:\n",
    "    try:\n",
    "        geometry_pot += [shape(json.loads(i.replace(\"'\", '\"'))) ]\n",
    "    \n",
    "    except: \n",
    "        geometry_pot += [None]\n",
    "geo_pot = gpd.GeoDataFrame(pot, geometry = geometry_pot)"
   ]
  },
  {
   "cell_type": "code",
   "execution_count": 10,
   "metadata": {},
   "outputs": [
    {
     "data": {
      "image/svg+xml": [
       "<svg xmlns=\"http://www.w3.org/2000/svg\" xmlns:xlink=\"http://www.w3.org/1999/xlink\" width=\"100.0\" height=\"100.0\" viewBox=\"-75.587176344892 6.273185091108 0.008790501883993329 0.00899099978399942\" preserveAspectRatio=\"xMinYMin meet\"><g transform=\"matrix(1,0,0,-1,0,12.555361181999999)\"><path fill-rule=\"evenodd\" fill=\"#66cc99\" stroke=\"#555555\" stroke-width=\"0.00017981999567998842\" opacity=\"0.6\" d=\"M -75.5838809758,6.2796332482 L -75.5839136379,6.279686631 L -75.5840054351,6.2798366968 L -75.5840549309,6.2799373679 L -75.584100125,6.280029307 L -75.5841320377,6.2800942245 L -75.5842496512,6.280366352 L -75.5844053381,6.2806908313 L -75.5845815526,6.281020896 L -75.5847030228,6.2812251943 L -75.5848108017,6.281336794 L -75.5849835855,6.281460396 L -75.5851264275,6.2815337901 L -75.5856516336,6.2817483815 L -75.5858092385,6.2818370252 L -75.5858200264,6.2818430909 L -75.5862550291,6.2814992644 L -75.5865897368,6.2812913008999995 L -75.5867781921,6.2809621838 L -75.5868277537,6.280868904 L -75.5868433331,6.2808395833 L -75.5868433449,6.280839558 L -75.5867336842,6.2807620938 L -75.5865604982,6.2806397535 L -75.5864447755,6.2805923889 L -75.5861475716,6.2802318643 L -75.5865794381,6.2798976901 L -75.5865778749,6.2798943542 L -75.5865665802,6.2798683642 L -75.5865631921,6.2798457632 L -75.5865643207,6.2798265531 L -75.586563754,6.2798005617 L -75.5865586718,6.2797757015 L -75.5865524586,6.2797564908 L -75.5865513285,6.2797384099 L -75.5865485063,6.2797248502 L -75.586542293,6.2797011192 L -75.586533823,6.2796841687 L -75.5865247883,6.2796683492 L -75.5865084111,6.279652529 L -75.5864897769,6.2796367089 L -75.5864717076,6.2796254091 L -75.5864508132,6.2796174995000005 L -75.5864299216,6.2796118501 L -75.5864107225,6.2796107208 L -75.5863841825,6.2796095918 L -75.5863644195,6.2796084626 L -75.5863384451,6.2796062026 L -75.5863147285,6.2796062036 L -75.5862944008,6.2796039443 L -75.5862684255,6.2796016852 L -75.5862435802,6.2795960359 L -75.5862209929,6.2795915166 L -75.5862000983,6.2795779567 L -75.5861888046,6.279554226 L -75.5861825932,6.2795338861 L -75.5861825924,6.279513545 L -75.586182026,6.2794932049 L -75.5861775085,6.2794694738 L -75.5861769438,6.2794480027 L -75.5861758137,6.2794287927 L -75.5861667787,6.2794028017 L -75.5861492719,6.2793835923 L -75.5861351552,6.279367772 L -75.5861210376,6.2793542119 L -75.5861024033,6.2793338716000004 L -75.586087156,6.2793112719 L -75.5860815084,6.2792909311 L -75.5860820731,6.2792694599 L -75.5860832014,6.2792434694 L -75.5860843299,6.2792208682 L -75.586088281,6.279201658 L -75.5860911054,6.2791824469 L -75.5860905388,6.2791575865 L -75.5860911035,6.2791349853 L -75.5860944906,6.2791123849 L -75.5861040885,6.2790943035 L -75.5861176403,6.2790796122 L -75.586134016,6.2790592714 L -75.5861385327,6.2790411903 L -75.5861396612,6.27901972 L -75.5861362721,6.2789948589 L -75.5861306245,6.2789745189 L -75.5861227191,6.2789541782 L -75.5861165058,6.2789315773 L -75.5861181998,6.2789089769 L -75.5861221508,6.2788875057 L -75.5861323143,6.2788682952 L -75.5861469954,6.2788558639 L -75.5861622422,6.2788445627 L -75.5861718392,6.2788276123 L -75.5861820028,6.278810661 L -75.5861876488,6.2787925808 L -75.5861882144,6.2787711096 L -75.5861853894,6.2787518988 L -75.5861791781,6.278734949 L -75.5861718355,6.2787146083 L -75.5861611078,6.2786987879 L -75.5861486839,6.278675058 L -75.5861430363,6.2786535871 L -75.5861373896,6.2786343764 L -75.586131742,6.2786151665 L -75.5861294826,6.2785970857 L -75.5861266572,6.2785699653 L -75.5861232682,6.2785473642 L -75.5861193165,6.2785281534 L -75.5861125393,6.2785032933 L -75.5861051966,6.2784795623 L -75.5860933396,6.278464872 L -75.5860718814,6.2784547032999996 L -75.5860526831,6.2784501829 L -75.586033484,6.2784501837 L -75.5860120261,6.2784467943 L -75.5859849222,6.2784422752 L -75.5859645936,6.2784377558 L -75.5859437001,6.2784287161 L -75.5859216777,6.2784072459 L -75.5859047375,6.2783891665 L -75.5858900552,6.2783722162 L -75.5858759375,6.2783541358 L -75.5858623848,6.2783428358 L -75.5858437515,6.2783258857 L -75.5858301985,6.2783066761 L -75.5858189043,6.2782908557 L -75.5858002693,6.2782750356 L -75.5857850233,6.2782614755 L -75.5857675175,6.2782411361 L -75.5857545301,6.2782241857 L -75.585741541,6.2782083654 L -75.5857268597,6.2781936752 L -75.5857082255,6.278175595 L -75.5856912854,6.2781597757 L -75.5856737789,6.2781462157 L -75.5856574046,6.2781349158 L -75.585638769,6.2781270061 L -75.5856127937,6.2781236169 L -75.5855896436,6.2781213577 L -75.5855647986,6.2781190986 L -75.5855444702,6.2781190985 L -75.5855241418,6.2781213594 L -75.5855038144,6.2781224902 L -75.5854806614,6.2781168409 L -75.5854654163,6.2780998906 L -75.5854603325,6.2780818107 L -75.5854496038,6.2780614701 L -75.5854371809,6.2780399995 L -75.5854309679,6.2780230497 L -75.5854213685,6.2780038391 L -75.5854066873,6.277991409 L -75.5853880518,6.2779857594 L -75.5853671597,6.2779868903 L -75.5853485253,6.2779880211 L -75.5853293264,6.2779925412 L -75.5853112569,6.2779970621 L -75.5852892365,6.2780038433 L -75.5852722964,6.2780094943 L -75.5852502733,6.2780140144 L -75.5852271234,6.2780174055 L -75.5852067951,6.2780207965 L -75.5851813847,6.2780230576000005 L -75.5851610562,6.2780219283 L -75.5851379062,6.2780207991 L -75.5850921671,6.2780174098 L -75.5850729679,6.2780117602 L -75.5850548979,6.2780038505 L -75.5850362649,6.2779948107 L -75.58501649990001,6.2779835109 L -75.5849967377,6.2779767313 L -75.5849741505,6.2779744721 L -75.5849560817,6.2779756028 L -75.5849374468,6.277984644 L -75.58491486,6.2779925543 L -75.5848922739,6.2779959454 L -75.5848612176,6.2779982067 L -75.5848425832,6.2779982074 L -75.5848149148,6.2779970784 L -75.5847962803,6.2779936889 L -75.5847753879,6.2779869093 L -75.5847561894,6.2779778696 L -75.584738119,6.2779597893 L -75.5847296472,6.2779405786 L -75.5847273877,6.2779191085 L -75.5847087543,6.277896508 L -75.5846985896,6.2778829477 L -75.5846850376,6.2778659973 L -75.5846771317,6.277855828 L -75.584670919,6.2778479178 L -75.5846551082,6.2778524377 L -75.5846579326,6.2778320975 L -75.5846500265,6.2778140168 L -75.5846347788,6.2778027168 L -75.5846189675,6.2777925469 L -75.5846020276,6.2777801178 L -75.5845839573,6.2777654277 L -75.5845692761,6.2777518675 L -75.5845562887,6.2777337871 L -75.5845387831,6.2777168368 L -75.5845184544,6.2777100572 L -75.5844936096,6.2777123183 L -75.5844732811,6.2777089288 L -75.5844501309,6.2777032794 L -75.5844314956,6.27770215 L -75.5844111675,6.2777111913 L -75.5843902766,6.2777213617 L -75.5843716415,6.2777258826 L -75.5843541376,6.2777304035 L -75.5843360691,6.2777394437 L -75.5843134822,6.2777450948 L -75.584293154,6.2777484858 L -75.5842750855,6.2777563968 L -75.5842575799,6.277765437 L -75.58424064,6.2777778683 L -75.584222571,6.277795949 L -75.5842084563,6.2778083802 L -75.5841915165,6.2778242016 L -75.5841740111,6.277836632 L -75.5841565074,6.2778490633 L -75.5841406979,6.2778648847 L -75.5841231928,6.2778863555 L -75.5841034305,6.277899917 L -75.584083666,6.2779055671 L -75.5840667269,6.2779123481 L -75.584047528,6.277916869 L -75.5840221192,6.2779146098 L -75.5840000957,6.2779112204 L -75.5839803337,6.277907831 L -75.5839571807,6.2779010514 L -75.5839357226,6.2778920117 L -75.5839125725,6.2778886215 L -75.5838922446,6.2778773225 L -75.5838724794,6.2778615024 L -75.5838594922,6.2778468121 L -75.5838448108,6.2778287317 L -75.5838357754,6.2778117812 L -75.5838335157,6.2777869208 L -75.5838312573,6.27776884 L -75.5838340779,6.2777428494 L -75.5838369024,6.2777225083 L -75.5838408533,6.2776965177 L -75.5838385937,6.2776716565 L -75.5838289942,6.2776490565 L -75.583812054,6.277627586 L -75.5837985012,6.2776117657 L -75.5837894667,6.2775959452 L -75.5837770433,6.2775823858 L -75.5837646196,6.2775609152000005 L -75.5837544557,6.2775428346 L -75.5837588196,6.2774948575 L -75.5837583947,6.2774887173 L -75.5837548811,6.2774651172 L -75.5837531082,6.2774560841 L -75.5837527539,6.2774542579 L -75.5837518864,6.2774498209 L -75.5837504045,6.2774422432 L -75.5837498632,6.2774394949 L -75.583748871,6.2774342497 L -75.5837477143,6.2774281221 L -75.5837464564,6.2774214394 L -75.5837450575,6.2774140263 L -75.5837448425,6.2774128781 L -75.5837429883,6.2774078544 L -75.5837397734,6.2773991395 L -75.58373795360001,6.2773942216 L -75.5837363109,6.2773897737 L -75.5837346375,6.2773857508 L -75.5837316666,6.2773785818 L -75.583727775,6.2773691907 L -75.5837274108,6.277368321 L -75.5837246089,6.2773616646 L -75.5837244092,6.2773611882 L -75.5837209332,6.2773529145 L -75.5837197477,6.2773501056 L -75.583716903,6.2773330482 L -75.5837167313,6.277332023 L -75.583715627,6.2773273599 L -75.5837131981,6.2773171063 L -75.5837122113,6.2773129315 L -75.5837098168,6.2773040683 L -75.58370569,6.2772888325 L -75.5837034239,6.2772832239 L -75.5836981634,6.2772702438 L -75.5836964557,6.2772672225 L -75.583689605,6.2772550923 L -75.5836891189,6.2772542153 L -75.5836871112,6.2772506625 L -75.5836863071,6.2772492821 L -75.5836823153,6.2772423916 L -75.5836791899,6.2772369963 L -75.5836780777,6.2772350843 L -75.5836709138,6.277230709 L -75.5836637309,6.277226311 L -75.5836600067,6.2772240384 L -75.5836557801,6.2772226011 L -75.5836543526,6.277222113 L -75.5836289775,6.2772008326 L -75.5835738275,6.2771872612 L -75.5835277951,6.2771634538 L -75.5834761405,6.2771212746 L -75.5834185091,6.277069877 L -75.5833533604,6.2770097069 L -75.583300739,6.2769620708 L -75.5832656597,6.2769169429 L -75.5832355903,6.2768755739 L -75.5832030152,6.2767978514 L -75.5831691876,6.2767364253 L -75.583146634,6.2766862831 L -75.5831140604,6.2766486758 L -75.5830777286,6.2766223503 L -75.5830551747,6.2765872506000004 L -75.5830363821,6.2765584175 L -75.5830338762,6.2765157954 L -75.5830363789,6.2764656515 L -75.5830338737,6.2764180128 L -75.5830213431,6.2763854196 L -75.5829987924,6.2763666162 L -75.5829762408,6.2763465598 L -75.5829574481,6.276310206 L -75.5829311378,6.2762588091 L -75.5828922978,6.2761986379 L -75.5828208845,6.2761384661 L -75.5827833004,6.2761347056 L -75.5827244178,6.2761334546 L -75.5826943506,6.2761284391 L -75.5826454907,6.2761108923 L -75.5826066521,6.2760920876 L -75.5825790888,6.2760707783 L -75.5825703186,6.2760406901 L -75.582576582,6.2759993216 L -75.5825840971,6.2759441636 L -75.582584095,6.2758839911 L -75.5825765773,6.2758350996 L -75.5825540258,6.2757887173 L -75.5825139344,6.2757523624000005 L -75.5824675784,6.2757210243 L -75.5823861444,6.2756758979 L -75.5823272612,6.2756570956 L -75.5822896752,6.2756483195 L -75.5822445739,6.2756345324 L -75.5822145058,6.275599432 L -75.58220323,6.2755605701 L -75.5822094913,6.275511679 L -75.5822257772,6.2754515069 L -75.5822533359,6.2753637538 L -75.5822859078,6.2752973097 L -75.5823184795,6.2752258546 L -75.5823360176,6.2751644267 L -75.5823460381,6.2750841958 L -75.5823422773,6.275013994 L -75.5823347575,6.2749538218 L -75.5823253249,6.2749180914 L -75.5823253264,6.274909691 L -75.5823253263,6.2749059582 L -75.5823253262,6.274903228 L -75.5823252719,6.2749010302 L -75.5823250005,6.2748908154 L -75.5823248829,6.2748860692 L -75.5823248286,6.2748841436 L -75.5823248279,6.2748635946 L -75.5823248278,6.2748580265000005 L -75.5823247555,6.274857278 L -75.5823237251,6.2748470505 L -75.5823225954,6.2748357147 L -75.5823215479,6.2748252097 L -75.5823208059,6.2748178418 L -75.5823186562,6.2748078521 L -75.5823171743,6.2748009995 L -75.5823152857,6.2747922312 L -75.5823067562,6.2747701366 L -75.5823006843,6.2747561964 L -75.5823005759,6.2747559613 L -75.5823005217,6.2747558348 L -75.5823004765,6.2747557362 L -75.5822983541,6.2747508644 L -75.5822982176,6.2747505462 L -75.5822886859,6.2747224225 L -75.5822869779,6.2747098382 L -75.582286029,6.2747028409 L -75.5822847909,6.2746937291 L -75.5822846644,6.2746927888 L -75.5822825681,6.2746866866 L -75.5822801195,6.2746795709 L -75.5822772371,6.2746711824 L -75.5822741288,6.274662151 L -75.582270136,6.2746513297 L -75.582267091,6.2746430858 L -75.5822620762,6.2746295072 L -75.5822594198,6.2746228716 L -75.5822510357,6.2746018889 L -75.5822444489,6.2745880482 L -75.5822409974,6.2745807888 L -75.5822362808,6.2745694531 L -75.5822334708,6.2745627081 L -75.5822320974,6.2745598794 L -75.582227896,6.2745512459 L -75.5822244354,6.2745441311 L -75.5822234144,6.274542079 L -75.5822153919,6.2745260234 L -75.5822128891,6.274521025 L -75.5822099345,6.2745162056 L -75.582205688,6.2745092816 L -75.5822011703,6.2745019219 L -75.5821993362,6.2744989305 L -75.5821927766,6.2744884709 L -75.5821888372,6.274482206 L -75.5821857842,6.2744773333 L -75.5821829128,6.2744730771 L -75.5821297688,6.2743485147 L -75.582111202,6.274176034 L -75.5820581596,6.2740327433 L -75.582026336,6.2739664045 L -75.5820024635,6.2737753494 L -75.5819784879,6.2736357915 L -75.5819362052,6.2736384444 L -75.5818233177,6.2736455294999995 L -75.5816805255,6.273635679 L -75.5816632881,6.2736354174 L -75.5809014078,6.2736239099 L -75.5801449115,6.2735508275 L -75.579935642,6.2735293343 L -75.5798262144,6.2735180911 L -75.5798001947,6.2735352407 L -75.5797704246,6.2735484759 L -75.5796950244,6.2735932817 L -75.5796296854,6.273645165 L -75.5794487294,6.2738927749 L -75.579343182,6.2740743512 L -75.5792413198,6.2742226502000005 L -75.5791709864,6.2743122143 L -75.5787893913,6.274751915 L -75.5788368947,6.2747953984 L -75.5788218274,6.2748307552 L -75.5787766129,6.275040527 L -75.5787414442,6.2751819453 L -75.578718843,6.2753610801 L -75.578718845,6.2754742107 L -75.5787314069,6.275641555 L -75.5787590376,6.2757617636 L -75.5787346653,6.2759325984 L -75.5792972529,6.2759542931 L -75.5796197732,6.2759852315 L -75.5798250224,6.2760161713 L -75.5799423002,6.2760333548 L -75.5802272022,6.2761523011 L -75.5803454518,6.27624818 L -75.5804128783,6.2762987947 L -75.5805548884,6.2764475587 L -75.5805569304,6.2764495385 L -75.5811842126,6.2770577461 L -75.5812574496,6.2771376788 L -75.5812663583,6.2771485723 L -75.5812919537,6.2771684515 L -75.5813016666,6.2771808728 L -75.5813155534,6.2771888732 L -75.5813497681,6.2772111017 L -75.5813728518,6.2772319121999995 L -75.5814003086,6.2772564472 L -75.5818238007,6.2776327307 L -75.5820419131,6.2778396121 L -75.5822831265,6.2780627927 L -75.5824969746,6.2782653717 L -75.5828245811,6.2786074566 L -75.5830435613,6.2788048912 L -75.5832796437,6.2790263538 L -75.5835114446,6.2792452578999995 L -75.5836859466,6.2794152198 L -75.5838809758,6.2796332482 z\" /></g></svg>"
      ],
      "text/plain": [
       "<shapely.geometry.polygon.Polygon at 0x7fc2a92129d0>"
      ]
     },
     "execution_count": 10,
     "metadata": {},
     "output_type": "execute_result"
    }
   ],
   "source": [
    "geo_barrios['geometry'][0]"
   ]
  },
  {
   "cell_type": "markdown",
   "metadata": {},
   "source": [
    "## Haciendo el join espacial"
   ]
  },
  {
   "cell_type": "markdown",
   "metadata": {},
   "source": [
    "Principales parametros son:\n",
    "- El dataset izquierdo\n",
    "- El dataser derecho\n",
    "- how: left, inner, right\n",
    "- op: intersects, within, contains\n",
    "- Los sufijos si se quieren especificar"
   ]
  },
  {
   "cell_type": "code",
   "execution_count": 13,
   "metadata": {},
   "outputs": [
    {
     "data": {
      "text/html": [
       "<div>\n",
       "<style scoped>\n",
       "    .dataframe tbody tr th:only-of-type {\n",
       "        vertical-align: middle;\n",
       "    }\n",
       "\n",
       "    .dataframe tbody tr th {\n",
       "        vertical-align: top;\n",
       "    }\n",
       "\n",
       "    .dataframe thead th {\n",
       "        text-align: right;\n",
       "    }\n",
       "</style>\n",
       "<table border=\"1\" class=\"dataframe\">\n",
       "  <thead>\n",
       "    <tr style=\"text-align: right;\">\n",
       "      <th></th>\n",
       "      <th>cod_cat_us</th>\n",
       "      <th>cod_subcat</th>\n",
       "      <th>the_geom</th>\n",
       "      <th>objectid</th>\n",
       "      <th>areagralus</th>\n",
       "      <th>subcategor</th>\n",
       "      <th>shapearea</th>\n",
       "      <th>shapelen</th>\n",
       "      <th>geometry</th>\n",
       "      <th>index_right</th>\n",
       "      <th>...</th>\n",
       "      <th>properties.OBJECTID</th>\n",
       "      <th>properties.SHAPEAREA</th>\n",
       "      <th>properties.SHAPELEN</th>\n",
       "      <th>properties.COMUNA</th>\n",
       "      <th>properties.BARRIO</th>\n",
       "      <th>properties.CODIGO</th>\n",
       "      <th>properties.NOMBRE_BARRIO</th>\n",
       "      <th>properties.NOMBRE_COMUNA</th>\n",
       "      <th>geometry.type</th>\n",
       "      <th>geometry.coordinates</th>\n",
       "    </tr>\n",
       "  </thead>\n",
       "  <tbody>\n",
       "    <tr>\n",
       "      <th>0</th>\n",
       "      <td>1</td>\n",
       "      <td>11</td>\n",
       "      <td>{'type': 'MultiPolygon', 'coordinates': [[[[-7...</td>\n",
       "      <td>1</td>\n",
       "      <td>Áreas de baja mixtura</td>\n",
       "      <td>Áreas predominantemente residenciales</td>\n",
       "      <td>148477.280907</td>\n",
       "      <td>2205.041058</td>\n",
       "      <td>MULTIPOLYGON (((-75.64887 6.16987, -75.64885 6...</td>\n",
       "      <td>NaN</td>\n",
       "      <td>...</td>\n",
       "      <td>NaN</td>\n",
       "      <td>NaN</td>\n",
       "      <td>NaN</td>\n",
       "      <td>NaN</td>\n",
       "      <td>NaN</td>\n",
       "      <td>NaN</td>\n",
       "      <td>NaN</td>\n",
       "      <td>NaN</td>\n",
       "      <td>NaN</td>\n",
       "      <td>NaN</td>\n",
       "    </tr>\n",
       "    <tr>\n",
       "      <th>1</th>\n",
       "      <td>1</td>\n",
       "      <td>11</td>\n",
       "      <td>{'type': 'MultiPolygon', 'coordinates': [[[[-7...</td>\n",
       "      <td>2</td>\n",
       "      <td>Áreas de baja mixtura</td>\n",
       "      <td>Áreas predominantemente residenciales</td>\n",
       "      <td>900.140772</td>\n",
       "      <td>134.628230</td>\n",
       "      <td>MULTIPOLYGON (((-75.64473 6.17191, -75.64479 6...</td>\n",
       "      <td>NaN</td>\n",
       "      <td>...</td>\n",
       "      <td>NaN</td>\n",
       "      <td>NaN</td>\n",
       "      <td>NaN</td>\n",
       "      <td>NaN</td>\n",
       "      <td>NaN</td>\n",
       "      <td>NaN</td>\n",
       "      <td>NaN</td>\n",
       "      <td>NaN</td>\n",
       "      <td>NaN</td>\n",
       "      <td>NaN</td>\n",
       "    </tr>\n",
       "    <tr>\n",
       "      <th>2</th>\n",
       "      <td>1</td>\n",
       "      <td>11</td>\n",
       "      <td>{'type': 'MultiPolygon', 'coordinates': [[[[-7...</td>\n",
       "      <td>3</td>\n",
       "      <td>Áreas de baja mixtura</td>\n",
       "      <td>Áreas predominantemente residenciales</td>\n",
       "      <td>1134.230010</td>\n",
       "      <td>160.192495</td>\n",
       "      <td>MULTIPOLYGON (((-75.64424 6.17199, -75.64429 6...</td>\n",
       "      <td>NaN</td>\n",
       "      <td>...</td>\n",
       "      <td>NaN</td>\n",
       "      <td>NaN</td>\n",
       "      <td>NaN</td>\n",
       "      <td>NaN</td>\n",
       "      <td>NaN</td>\n",
       "      <td>NaN</td>\n",
       "      <td>NaN</td>\n",
       "      <td>NaN</td>\n",
       "      <td>NaN</td>\n",
       "      <td>NaN</td>\n",
       "    </tr>\n",
       "    <tr>\n",
       "      <th>3</th>\n",
       "      <td>1</td>\n",
       "      <td>11</td>\n",
       "      <td>{'type': 'MultiPolygon', 'coordinates': [[[[-7...</td>\n",
       "      <td>4</td>\n",
       "      <td>Áreas de baja mixtura</td>\n",
       "      <td>Áreas predominantemente residenciales</td>\n",
       "      <td>765.464952</td>\n",
       "      <td>151.468195</td>\n",
       "      <td>MULTIPOLYGON (((-75.64978 6.17224, -75.64979 6...</td>\n",
       "      <td>NaN</td>\n",
       "      <td>...</td>\n",
       "      <td>NaN</td>\n",
       "      <td>NaN</td>\n",
       "      <td>NaN</td>\n",
       "      <td>NaN</td>\n",
       "      <td>NaN</td>\n",
       "      <td>NaN</td>\n",
       "      <td>NaN</td>\n",
       "      <td>NaN</td>\n",
       "      <td>NaN</td>\n",
       "      <td>NaN</td>\n",
       "    </tr>\n",
       "    <tr>\n",
       "      <th>4</th>\n",
       "      <td>1</td>\n",
       "      <td>11</td>\n",
       "      <td>{'type': 'MultiPolygon', 'coordinates': [[[[-7...</td>\n",
       "      <td>5</td>\n",
       "      <td>Áreas de baja mixtura</td>\n",
       "      <td>Áreas predominantemente residenciales</td>\n",
       "      <td>211.468247</td>\n",
       "      <td>72.594020</td>\n",
       "      <td>MULTIPOLYGON (((-75.64879 6.17237, -75.64880 6...</td>\n",
       "      <td>NaN</td>\n",
       "      <td>...</td>\n",
       "      <td>NaN</td>\n",
       "      <td>NaN</td>\n",
       "      <td>NaN</td>\n",
       "      <td>NaN</td>\n",
       "      <td>NaN</td>\n",
       "      <td>NaN</td>\n",
       "      <td>NaN</td>\n",
       "      <td>NaN</td>\n",
       "      <td>NaN</td>\n",
       "      <td>NaN</td>\n",
       "    </tr>\n",
       "    <tr>\n",
       "      <th>...</th>\n",
       "      <td>...</td>\n",
       "      <td>...</td>\n",
       "      <td>...</td>\n",
       "      <td>...</td>\n",
       "      <td>...</td>\n",
       "      <td>...</td>\n",
       "      <td>...</td>\n",
       "      <td>...</td>\n",
       "      <td>...</td>\n",
       "      <td>...</td>\n",
       "      <td>...</td>\n",
       "      <td>...</td>\n",
       "      <td>...</td>\n",
       "      <td>...</td>\n",
       "      <td>...</td>\n",
       "      <td>...</td>\n",
       "      <td>...</td>\n",
       "      <td>...</td>\n",
       "      <td>...</td>\n",
       "      <td>...</td>\n",
       "      <td>...</td>\n",
       "    </tr>\n",
       "    <tr>\n",
       "      <th>10811</th>\n",
       "      <td>1</td>\n",
       "      <td>11</td>\n",
       "      <td>{'type': 'MultiPolygon', 'coordinates': [[[[-7...</td>\n",
       "      <td>10570</td>\n",
       "      <td>Áreas de baja mixtura</td>\n",
       "      <td>Áreas predominantemente residenciales</td>\n",
       "      <td>427.254394</td>\n",
       "      <td>145.772169</td>\n",
       "      <td>MULTIPOLYGON (((-75.57641 6.30586, -75.57640 6...</td>\n",
       "      <td>NaN</td>\n",
       "      <td>...</td>\n",
       "      <td>NaN</td>\n",
       "      <td>NaN</td>\n",
       "      <td>NaN</td>\n",
       "      <td>NaN</td>\n",
       "      <td>NaN</td>\n",
       "      <td>NaN</td>\n",
       "      <td>NaN</td>\n",
       "      <td>NaN</td>\n",
       "      <td>NaN</td>\n",
       "      <td>NaN</td>\n",
       "    </tr>\n",
       "    <tr>\n",
       "      <th>10812</th>\n",
       "      <td>1</td>\n",
       "      <td>11</td>\n",
       "      <td>{'type': 'MultiPolygon', 'coordinates': [[[[-7...</td>\n",
       "      <td>10595</td>\n",
       "      <td>Áreas de baja mixtura</td>\n",
       "      <td>Áreas predominantemente residenciales</td>\n",
       "      <td>3859.516156</td>\n",
       "      <td>272.996309</td>\n",
       "      <td>MULTIPOLYGON (((-75.57064 6.30584, -75.57064 6...</td>\n",
       "      <td>NaN</td>\n",
       "      <td>...</td>\n",
       "      <td>NaN</td>\n",
       "      <td>NaN</td>\n",
       "      <td>NaN</td>\n",
       "      <td>NaN</td>\n",
       "      <td>NaN</td>\n",
       "      <td>NaN</td>\n",
       "      <td>NaN</td>\n",
       "      <td>NaN</td>\n",
       "      <td>NaN</td>\n",
       "      <td>NaN</td>\n",
       "    </tr>\n",
       "    <tr>\n",
       "      <th>10813</th>\n",
       "      <td>1</td>\n",
       "      <td>11</td>\n",
       "      <td>{'type': 'MultiPolygon', 'coordinates': [[[[-7...</td>\n",
       "      <td>10571</td>\n",
       "      <td>Áreas de baja mixtura</td>\n",
       "      <td>Áreas predominantemente residenciales</td>\n",
       "      <td>2841.192111</td>\n",
       "      <td>579.073770</td>\n",
       "      <td>MULTIPOLYGON (((-75.54802 6.30590, -75.54800 6...</td>\n",
       "      <td>NaN</td>\n",
       "      <td>...</td>\n",
       "      <td>NaN</td>\n",
       "      <td>NaN</td>\n",
       "      <td>NaN</td>\n",
       "      <td>NaN</td>\n",
       "      <td>NaN</td>\n",
       "      <td>NaN</td>\n",
       "      <td>NaN</td>\n",
       "      <td>NaN</td>\n",
       "      <td>NaN</td>\n",
       "      <td>NaN</td>\n",
       "    </tr>\n",
       "    <tr>\n",
       "      <th>10814</th>\n",
       "      <td>1</td>\n",
       "      <td>11</td>\n",
       "      <td>{'type': 'MultiPolygon', 'coordinates': [[[[-7...</td>\n",
       "      <td>10572</td>\n",
       "      <td>Áreas de baja mixtura</td>\n",
       "      <td>Áreas predominantemente residenciales</td>\n",
       "      <td>1046.612505</td>\n",
       "      <td>202.907448</td>\n",
       "      <td>MULTIPOLYGON (((-75.56372 6.30562, -75.56407 6...</td>\n",
       "      <td>NaN</td>\n",
       "      <td>...</td>\n",
       "      <td>NaN</td>\n",
       "      <td>NaN</td>\n",
       "      <td>NaN</td>\n",
       "      <td>NaN</td>\n",
       "      <td>NaN</td>\n",
       "      <td>NaN</td>\n",
       "      <td>NaN</td>\n",
       "      <td>NaN</td>\n",
       "      <td>NaN</td>\n",
       "      <td>NaN</td>\n",
       "    </tr>\n",
       "    <tr>\n",
       "      <th>10815</th>\n",
       "      <td>1</td>\n",
       "      <td>11</td>\n",
       "      <td>{'type': 'MultiPolygon', 'coordinates': [[[[-7...</td>\n",
       "      <td>10573</td>\n",
       "      <td>Áreas de baja mixtura</td>\n",
       "      <td>Áreas predominantemente residenciales</td>\n",
       "      <td>69.832609</td>\n",
       "      <td>33.945088</td>\n",
       "      <td>MULTIPOLYGON (((-75.54944 6.30587, -75.54945 6...</td>\n",
       "      <td>NaN</td>\n",
       "      <td>...</td>\n",
       "      <td>NaN</td>\n",
       "      <td>NaN</td>\n",
       "      <td>NaN</td>\n",
       "      <td>NaN</td>\n",
       "      <td>NaN</td>\n",
       "      <td>NaN</td>\n",
       "      <td>NaN</td>\n",
       "      <td>NaN</td>\n",
       "      <td>NaN</td>\n",
       "      <td>NaN</td>\n",
       "    </tr>\n",
       "  </tbody>\n",
       "</table>\n",
       "<p>10816 rows × 21 columns</p>\n",
       "</div>"
      ],
      "text/plain": [
       "       cod_cat_us  cod_subcat  \\\n",
       "0               1          11   \n",
       "1               1          11   \n",
       "2               1          11   \n",
       "3               1          11   \n",
       "4               1          11   \n",
       "...           ...         ...   \n",
       "10811           1          11   \n",
       "10812           1          11   \n",
       "10813           1          11   \n",
       "10814           1          11   \n",
       "10815           1          11   \n",
       "\n",
       "                                                the_geom  objectid  \\\n",
       "0      {'type': 'MultiPolygon', 'coordinates': [[[[-7...         1   \n",
       "1      {'type': 'MultiPolygon', 'coordinates': [[[[-7...         2   \n",
       "2      {'type': 'MultiPolygon', 'coordinates': [[[[-7...         3   \n",
       "3      {'type': 'MultiPolygon', 'coordinates': [[[[-7...         4   \n",
       "4      {'type': 'MultiPolygon', 'coordinates': [[[[-7...         5   \n",
       "...                                                  ...       ...   \n",
       "10811  {'type': 'MultiPolygon', 'coordinates': [[[[-7...     10570   \n",
       "10812  {'type': 'MultiPolygon', 'coordinates': [[[[-7...     10595   \n",
       "10813  {'type': 'MultiPolygon', 'coordinates': [[[[-7...     10571   \n",
       "10814  {'type': 'MultiPolygon', 'coordinates': [[[[-7...     10572   \n",
       "10815  {'type': 'MultiPolygon', 'coordinates': [[[[-7...     10573   \n",
       "\n",
       "                  areagralus                             subcategor  \\\n",
       "0      Áreas de baja mixtura  Áreas predominantemente residenciales   \n",
       "1      Áreas de baja mixtura  Áreas predominantemente residenciales   \n",
       "2      Áreas de baja mixtura  Áreas predominantemente residenciales   \n",
       "3      Áreas de baja mixtura  Áreas predominantemente residenciales   \n",
       "4      Áreas de baja mixtura  Áreas predominantemente residenciales   \n",
       "...                      ...                                    ...   \n",
       "10811  Áreas de baja mixtura  Áreas predominantemente residenciales   \n",
       "10812  Áreas de baja mixtura  Áreas predominantemente residenciales   \n",
       "10813  Áreas de baja mixtura  Áreas predominantemente residenciales   \n",
       "10814  Áreas de baja mixtura  Áreas predominantemente residenciales   \n",
       "10815  Áreas de baja mixtura  Áreas predominantemente residenciales   \n",
       "\n",
       "           shapearea     shapelen  \\\n",
       "0      148477.280907  2205.041058   \n",
       "1         900.140772   134.628230   \n",
       "2        1134.230010   160.192495   \n",
       "3         765.464952   151.468195   \n",
       "4         211.468247    72.594020   \n",
       "...              ...          ...   \n",
       "10811     427.254394   145.772169   \n",
       "10812    3859.516156   272.996309   \n",
       "10813    2841.192111   579.073770   \n",
       "10814    1046.612505   202.907448   \n",
       "10815      69.832609    33.945088   \n",
       "\n",
       "                                                geometry  index_right  ...  \\\n",
       "0      MULTIPOLYGON (((-75.64887 6.16987, -75.64885 6...          NaN  ...   \n",
       "1      MULTIPOLYGON (((-75.64473 6.17191, -75.64479 6...          NaN  ...   \n",
       "2      MULTIPOLYGON (((-75.64424 6.17199, -75.64429 6...          NaN  ...   \n",
       "3      MULTIPOLYGON (((-75.64978 6.17224, -75.64979 6...          NaN  ...   \n",
       "4      MULTIPOLYGON (((-75.64879 6.17237, -75.64880 6...          NaN  ...   \n",
       "...                                                  ...          ...  ...   \n",
       "10811  MULTIPOLYGON (((-75.57641 6.30586, -75.57640 6...          NaN  ...   \n",
       "10812  MULTIPOLYGON (((-75.57064 6.30584, -75.57064 6...          NaN  ...   \n",
       "10813  MULTIPOLYGON (((-75.54802 6.30590, -75.54800 6...          NaN  ...   \n",
       "10814  MULTIPOLYGON (((-75.56372 6.30562, -75.56407 6...          NaN  ...   \n",
       "10815  MULTIPOLYGON (((-75.54944 6.30587, -75.54945 6...          NaN  ...   \n",
       "\n",
       "      properties.OBJECTID  properties.SHAPEAREA  properties.SHAPELEN  \\\n",
       "0                     NaN                   NaN                  NaN   \n",
       "1                     NaN                   NaN                  NaN   \n",
       "2                     NaN                   NaN                  NaN   \n",
       "3                     NaN                   NaN                  NaN   \n",
       "4                     NaN                   NaN                  NaN   \n",
       "...                   ...                   ...                  ...   \n",
       "10811                 NaN                   NaN                  NaN   \n",
       "10812                 NaN                   NaN                  NaN   \n",
       "10813                 NaN                   NaN                  NaN   \n",
       "10814                 NaN                   NaN                  NaN   \n",
       "10815                 NaN                   NaN                  NaN   \n",
       "\n",
       "       properties.COMUNA  properties.BARRIO  properties.CODIGO  \\\n",
       "0                    NaN                NaN                NaN   \n",
       "1                    NaN                NaN                NaN   \n",
       "2                    NaN                NaN                NaN   \n",
       "3                    NaN                NaN                NaN   \n",
       "4                    NaN                NaN                NaN   \n",
       "...                  ...                ...                ...   \n",
       "10811                NaN                NaN                NaN   \n",
       "10812                NaN                NaN                NaN   \n",
       "10813                NaN                NaN                NaN   \n",
       "10814                NaN                NaN                NaN   \n",
       "10815                NaN                NaN                NaN   \n",
       "\n",
       "       properties.NOMBRE_BARRIO properties.NOMBRE_COMUNA geometry.type  \\\n",
       "0                           NaN                      NaN           NaN   \n",
       "1                           NaN                      NaN           NaN   \n",
       "2                           NaN                      NaN           NaN   \n",
       "3                           NaN                      NaN           NaN   \n",
       "4                           NaN                      NaN           NaN   \n",
       "...                         ...                      ...           ...   \n",
       "10811                       NaN                      NaN           NaN   \n",
       "10812                       NaN                      NaN           NaN   \n",
       "10813                       NaN                      NaN           NaN   \n",
       "10814                       NaN                      NaN           NaN   \n",
       "10815                       NaN                      NaN           NaN   \n",
       "\n",
       "      geometry.coordinates  \n",
       "0                      NaN  \n",
       "1                      NaN  \n",
       "2                      NaN  \n",
       "3                      NaN  \n",
       "4                      NaN  \n",
       "...                    ...  \n",
       "10811                  NaN  \n",
       "10812                  NaN  \n",
       "10813                  NaN  \n",
       "10814                  NaN  \n",
       "10815                  NaN  \n",
       "\n",
       "[10816 rows x 21 columns]"
      ]
     },
     "execution_count": 13,
     "metadata": {},
     "output_type": "execute_result"
    }
   ],
   "source": [
    "gpd.sjoin(geo_pot, geo_barrios, how='left', op='contains')"
   ]
  },
  {
   "cell_type": "code",
   "execution_count": 17,
   "metadata": {},
   "outputs": [
    {
     "ename": "TypeError",
     "evalue": "sjoin() got an unexpected keyword argument 'right_index'",
     "output_type": "error",
     "traceback": [
      "\u001b[0;31m---------------------------------------------------------------------------\u001b[0m",
      "\u001b[0;31mTypeError\u001b[0m                                 Traceback (most recent call last)",
      "\u001b[0;32m<ipython-input-17-8ff63c67c4b7>\u001b[0m in \u001b[0;36m<module>\u001b[0;34m\u001b[0m\n\u001b[0;32m----> 1\u001b[0;31m \u001b[0mpot_barrio\u001b[0m \u001b[0;34m=\u001b[0m \u001b[0mgpd\u001b[0m\u001b[0;34m.\u001b[0m\u001b[0msjoin\u001b[0m\u001b[0;34m(\u001b[0m\u001b[0mgeo_pot\u001b[0m\u001b[0;34m,\u001b[0m \u001b[0mgeo_barrios\u001b[0m\u001b[0;34m,\u001b[0m \u001b[0mhow\u001b[0m\u001b[0;34m=\u001b[0m\u001b[0;34m'left'\u001b[0m\u001b[0;34m,\u001b[0m \u001b[0mop\u001b[0m\u001b[0;34m=\u001b[0m\u001b[0;34m'intersects'\u001b[0m\u001b[0;34m,\u001b[0m \u001b[0mright_index\u001b[0m\u001b[0;34m=\u001b[0m\u001b[0;34m'barrio'\u001b[0m\u001b[0;34m)\u001b[0m\u001b[0;34m\u001b[0m\u001b[0;34m\u001b[0m\u001b[0m\n\u001b[0m",
      "\u001b[0;31mTypeError\u001b[0m: sjoin() got an unexpected keyword argument 'right_index'"
     ]
    }
   ],
   "source": [
    "pot_barrio = gpd.sjoin(geo_pot, geo_barrios, how='left', op='intersects', right_index='barrio')"
   ]
  },
  {
   "cell_type": "code",
   "execution_count": 15,
   "metadata": {},
   "outputs": [
    {
     "ename": "ValueError",
     "evalue": "'index_left' and 'index_right' cannot be names in the frames being joined",
     "output_type": "error",
     "traceback": [
      "\u001b[0;31m---------------------------------------------------------------------------\u001b[0m",
      "\u001b[0;31mValueError\u001b[0m                                Traceback (most recent call last)",
      "\u001b[0;32m<ipython-input-15-9a19c576887a>\u001b[0m in \u001b[0;36m<module>\u001b[0;34m\u001b[0m\n\u001b[0;32m----> 1\u001b[0;31m \u001b[0mgpd\u001b[0m\u001b[0;34m.\u001b[0m\u001b[0msjoin\u001b[0m\u001b[0;34m(\u001b[0m\u001b[0mgeo_propiedades\u001b[0m\u001b[0;34m,\u001b[0m \u001b[0mpot_barrio\u001b[0m\u001b[0;34m,\u001b[0m \u001b[0mhow\u001b[0m\u001b[0;34m=\u001b[0m\u001b[0;34m'left'\u001b[0m\u001b[0;34m,\u001b[0m \u001b[0mop\u001b[0m\u001b[0;34m=\u001b[0m\u001b[0;34m'intersects'\u001b[0m\u001b[0;34m)\u001b[0m\u001b[0;34m\u001b[0m\u001b[0;34m\u001b[0m\u001b[0m\n\u001b[0m",
      "\u001b[0;32m~/anaconda3/lib/python3.8/site-packages/geopandas/tools/sjoin.py\u001b[0m in \u001b[0;36msjoin\u001b[0;34m(left_df, right_df, how, op, lsuffix, rsuffix)\u001b[0m\n\u001b[1;32m     63\u001b[0m         \u001b[0mright_df\u001b[0m\u001b[0;34m.\u001b[0m\u001b[0mcolumns\u001b[0m\u001b[0;34m.\u001b[0m\u001b[0misin\u001b[0m\u001b[0;34m(\u001b[0m\u001b[0;34m[\u001b[0m\u001b[0mindex_left\u001b[0m\u001b[0;34m,\u001b[0m \u001b[0mindex_right\u001b[0m\u001b[0;34m]\u001b[0m\u001b[0;34m)\u001b[0m\u001b[0;34m\u001b[0m\u001b[0;34m\u001b[0m\u001b[0m\n\u001b[1;32m     64\u001b[0m     ):\n\u001b[0;32m---> 65\u001b[0;31m         raise ValueError(\n\u001b[0m\u001b[1;32m     66\u001b[0m             \u001b[0;34m\"'{0}' and '{1}' cannot be names in the frames being\"\u001b[0m\u001b[0;34m\u001b[0m\u001b[0;34m\u001b[0m\u001b[0m\n\u001b[1;32m     67\u001b[0m             \u001b[0;34m\" joined\"\u001b[0m\u001b[0;34m.\u001b[0m\u001b[0mformat\u001b[0m\u001b[0;34m(\u001b[0m\u001b[0mindex_left\u001b[0m\u001b[0;34m,\u001b[0m \u001b[0mindex_right\u001b[0m\u001b[0;34m)\u001b[0m\u001b[0;34m\u001b[0m\u001b[0;34m\u001b[0m\u001b[0m\n",
      "\u001b[0;31mValueError\u001b[0m: 'index_left' and 'index_right' cannot be names in the frames being joined"
     ]
    }
   ],
   "source": [
    "gpd.sjoin(geo_propiedades, pot_barrio, how='left', op='intersects')"
   ]
  }
 ],
 "metadata": {
  "kernelspec": {
   "display_name": "Python 3",
   "language": "python",
   "name": "python3"
  },
  "language_info": {
   "codemirror_mode": {
    "name": "ipython",
    "version": 3
   },
   "file_extension": ".py",
   "mimetype": "text/x-python",
   "name": "python",
   "nbconvert_exporter": "python",
   "pygments_lexer": "ipython3",
   "version": "3.8.3"
  }
 },
 "nbformat": 4,
 "nbformat_minor": 4
}
