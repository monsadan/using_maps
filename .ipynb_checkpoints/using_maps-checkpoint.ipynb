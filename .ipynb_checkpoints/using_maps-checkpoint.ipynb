{
 "cells": [
  {
   "cell_type": "markdown",
   "metadata": {},
   "source": [
    "# Usando Folium y GeoPandas para generar información"
   ]
  },
  {
   "cell_type": "code",
   "execution_count": null,
   "metadata": {},
   "outputs": [],
   "source": [
    "import pandas as pd\n",
    "import numpy as np\n",
    "import json\n",
    "from shapely.geometry import shape\n",
    "usuario = 'DanielMonsalveMuñoz'"
   ]
  },
  {
   "cell_type": "markdown",
   "metadata": {},
   "source": [
    "### GeoPandas\n",
    "Se utiliza para realizar operaciones con información espacial"
   ]
  },
  {
   "cell_type": "code",
   "execution_count": null,
   "metadata": {},
   "outputs": [],
   "source": [
    "import geopandas as gpd"
   ]
  },
  {
   "cell_type": "markdown",
   "metadata": {},
   "source": [
    "### Folium\n",
    "Se utiliza para generar los mapas interactivos"
   ]
  },
  {
   "cell_type": "code",
   "execution_count": null,
   "metadata": {},
   "outputs": [],
   "source": [
    "import folium "
   ]
  },
  {
   "cell_type": "markdown",
   "metadata": {},
   "source": [
    "### Información para el ejemplo\n",
    "Se van a utilizar los datos qué tenemos disponibles para Medellín"
   ]
  },
  {
   "cell_type": "code",
   "execution_count": null,
   "metadata": {},
   "outputs": [],
   "source": [
    "#Leyendo propiedades\n",
    "path = r'/mnt/c/Users/{}/Pactia/Analítica & AI - Documentos/General/Bases de datos/Finca Raíz/fincaraiz_04_02_21.csv'\n",
    "propiedades = pd.read_csv(path.format(usuario))\n",
    "propiedades.drop_duplicates(subset='codigo_inmueble', inplace = True)\n",
    "propiedades.shape"
   ]
  },
  {
   "cell_type": "code",
   "execution_count": null,
   "metadata": {},
   "outputs": [],
   "source": [
    "#Leyendo barrios\n",
    "barrios = pd.read_json('../Variables_Externas/Infraestructura_y_catastro/Historicos/Barrios_Veredas_medellin.json')\n",
    "barrios.shape"
   ]
  },
  {
   "cell_type": "code",
   "execution_count": null,
   "metadata": {},
   "outputs": [],
   "source": [
    "#Leyendo POT\n",
    "pot =  pd.read_excel('../Variables_Externas/Ordenamiento_territorial/Historicos/POT_UsoGeneralSueloMedellin.xlsx')\n",
    "pot.shape"
   ]
  },
  {
   "cell_type": "markdown",
   "metadata": {},
   "source": [
    "Para poder utilizar geopandas es necesario tener una columna de geometría qué es la qué las funciones van a reconocer \n",
    "y procesar, la información debe estar en el siguiente formato:\n",
    "\n",
    "**(Tipo de figura)(puntos de la figura)**\n",
    "\n",
    "Ejemplo:\n",
    "\n",
    "POINT (-75.69231 4.52666)"
   ]
  },
  {
   "cell_type": "markdown",
   "metadata": {},
   "source": [
    "### Convirtiendo coordenadas en formato adecuado de geometría\n",
    "En los datasets cargados no existe esta columna, debemos crearla:"
   ]
  },
  {
   "cell_type": "code",
   "execution_count": null,
   "metadata": {},
   "outputs": [],
   "source": [
    "# En propiedades\n",
    "propiedades.dropna(subset=['latitud'], inplace = True)\n",
    "propiedades = propiedades[propiedades['latitud']>0]\n",
    "geo_propiedades = gpd.GeoDataFrame(propiedades, \n",
    "                                   geometry=gpd.points_from_xy(propiedades.longitud, propiedades.latitud),crs=\"EPSG:4326\")"
   ]
  },
  {
   "cell_type": "code",
   "execution_count": null,
   "metadata": {},
   "outputs": [],
   "source": [
    "geo_propiedades['tipo_inmueble'].value_counts()"
   ]
  },
  {
   "cell_type": "code",
   "execution_count": null,
   "metadata": {},
   "outputs": [],
   "source": [
    "#Filtrando propiedades únicamente de Medellín\n",
    "geo_propiedades = geo_propiedades[geo_propiedades['ciudad']=='Medellín']\n",
    "geo_propiedades = geo_propiedades[geo_propiedades['tipo_inmueble']=='Lote']\n",
    "geo_propiedades.shape"
   ]
  },
  {
   "cell_type": "code",
   "execution_count": null,
   "metadata": {},
   "outputs": [],
   "source": [
    "# En barrios\n",
    "geometry_barrios = []\n",
    "for i in range(len(barrios)):\n",
    "    try:\n",
    "        type_ = barrios.iloc[i]['geometry.type']\n",
    "        coordinates = barrios.iloc[i]['geometry.coordinates']\n",
    "        dict_ = {'type':type_,'coordinates':coordinates}\n",
    "        geometry_barrios += [shape(dict_) ]\n",
    "    except: \n",
    "        geometry_barrios += [None]\n",
    "geo_barrios = gpd.GeoDataFrame(barrios, geometry = geometry_barrios, crs=\"EPSG:4326\")"
   ]
  },
  {
   "cell_type": "code",
   "execution_count": null,
   "metadata": {},
   "outputs": [],
   "source": [
    "#En POT\n",
    "geometry_pot = []\n",
    "for i in pot['the_geom']:\n",
    "    try:\n",
    "        geometry_pot += [shape(json.loads(i.replace(\"'\", '\"'))) ]\n",
    "    \n",
    "    except: \n",
    "        geometry_pot += [None]\n",
    "geo_pot = gpd.GeoDataFrame(pot, geometry = geometry_pot,crs=\"EPSG:4326\")"
   ]
  },
  {
   "cell_type": "code",
   "execution_count": null,
   "metadata": {},
   "outputs": [],
   "source": [
    "geo_barrios['geometry'][0]"
   ]
  },
  {
   "cell_type": "markdown",
   "metadata": {},
   "source": [
    "## Haciendo el join espacial"
   ]
  },
  {
   "cell_type": "markdown",
   "metadata": {},
   "source": [
    "Principales parametros son:\n",
    "- El dataset izquierdo\n",
    "- El dataser derecho\n",
    "- how: left, inner, right\n",
    "- op: intersects, within, contains\n",
    "- Los sufijos si se quieren especificar"
   ]
  },
  {
   "cell_type": "code",
   "execution_count": null,
   "metadata": {},
   "outputs": [],
   "source": [
    "gpd.sjoin(geo_pot, geo_barrios, how='left', op='contains')"
   ]
  },
  {
   "cell_type": "code",
   "execution_count": null,
   "metadata": {},
   "outputs": [],
   "source": [
    "pot_barrio = gpd.sjoin(geo_pot, geo_barrios, how='left', op='intersects', rsuffix='barrio')"
   ]
  },
  {
   "cell_type": "code",
   "execution_count": null,
   "metadata": {},
   "outputs": [],
   "source": [
    "prop_medellin = gpd.sjoin(geo_propiedades, pot_barrio, how='left', op='intersects')"
   ]
  },
  {
   "cell_type": "markdown",
   "metadata": {},
   "source": [
    "## Generando los mapas"
   ]
  },
  {
   "cell_type": "markdown",
   "metadata": {},
   "source": [
    "El primer paso es crear un mapa base, usando **folium.Map()**. Existen varios parametros para ingresar dependiendo del tipo de mapa que se quiera graficas:\n",
    " - location:  Localización en la que se quiere iniciar el mapa\n",
    " - width & heigth (int, string, default :'100%'): Tamaño del mapa en altura y ancho\n",
    " - min_zoom (int, default:0): Limite inferior para ponerle al zoom del mapa\n",
    " - max_zoom (int, default:18): Limite inferior para ponerle al zoom del mapa\n",
    " - zoom_start(int, default:10) : Initial zoom level for the map (Map scale)\n",
    " - tiles : Estilo del mapa (default=OpenStreetMap, Stamen Terrain, Stamen Toner, Mapbox Bright, Mapbox Control Room, etc)"
   ]
  },
  {
   "cell_type": "code",
   "execution_count": null,
   "metadata": {},
   "outputs": [],
   "source": [
    "m = folium.Map(location =[6.2499717,-75.5780381], zoom_start = 12, tiles = 'Stamen Terrain')\n",
    "m"
   ]
  },
  {
   "cell_type": "markdown",
   "metadata": {},
   "source": [
    "Desde este mapa base se pueden iniciar a poner diferentes geometrias y atributos al mapa"
   ]
  },
  {
   "cell_type": "code",
   "execution_count": null,
   "metadata": {},
   "outputs": [],
   "source": [
    "#Por ejemplo la geometria de los barrios\n",
    "for geometry in geo_barrios.geometry:\n",
    "    try:\n",
    "        folium.GeoJson(geometry).add_to(m)\n",
    "    except:continue\n",
    "\n",
    "m"
   ]
  },
  {
   "cell_type": "code",
   "execution_count": null,
   "metadata": {
    "scrolled": true
   },
   "outputs": [],
   "source": [
    "#O las propiedades\n",
    "\n",
    "for geometry in geo_propiedades.geometry:\n",
    "    try:\n",
    "        folium.GeoJson(geometry).add_to(m)\n",
    "    except:continue\n",
    "\n",
    "m"
   ]
  },
  {
   "cell_type": "markdown",
   "metadata": {},
   "source": [
    "Los puntos es mejor ponerlos como marcadores (Markers) porque nos permite adicionar información, los markers pueden tener:\n",
    "    - Tooltip: Información que muestra al pasar el cursos por encima\n",
    "    - Popups: Información que muestra al darle click (Se puede utilizar formato html para enriquecer la información)\n",
    "    - Icon: Icono qué tendría el marcador en caso de necesitarlo (https://fontawesome.com/icons?d=gallery&p=2)"
   ]
  },
  {
   "cell_type": "code",
   "execution_count": null,
   "metadata": {
    "scrolled": true
   },
   "outputs": [],
   "source": [
    "#Los puntos también se pueden poner cómo marcadores en vez de usar la geometria\n",
    "for i in range(0,len(geo_propiedades)):\n",
    "    folium.Marker(location = [geo_propiedades.iloc[i]['latitud'], geo_propiedades.iloc[i]['longitud']],\n",
    "                  tooltip=geo_propiedades.iloc[i]['tipo_inmueble'], icon=folium.Icon(color='gray')).add_to(m)\n",
    "    \n",
    "# create dataframe\n",
    "df_marks = pd.DataFrame({'nombre': ['Aeropuerto'],\n",
    "     'Valor': ['$$$ Mucho']})\n",
    "\n",
    "# render dataframe as html\n",
    "html = df_marks.to_html()\n",
    "\n",
    "iframe = folium.IFrame(html,\n",
    "                       width=500,\n",
    "                       height=100)\n",
    "\n",
    "popup = folium.Popup(iframe,\n",
    "                     max_width=200)\n",
    "\n",
    "folium.Marker([6.2499717,-75.6780381], \n",
    "              icon = folium.Icon(icon='plane', color='red'), \n",
    "              tooltip = 'Prueba',popup=popup).add_to(m)\n",
    "\n",
    "   \n",
    "m"
   ]
  },
  {
   "cell_type": "markdown",
   "metadata": {},
   "source": [
    "Se pueden hacer otras cosas con varios plugins que tiene disponible folium, por ejemplo el minimapa:\n",
    "(https://python-visualization.github.io/folium/plugins.html página de documentación de plugins)\n"
   ]
  },
  {
   "cell_type": "code",
   "execution_count": null,
   "metadata": {},
   "outputs": [],
   "source": [
    "from folium import plugins"
   ]
  },
  {
   "cell_type": "code",
   "execution_count": null,
   "metadata": {},
   "outputs": [],
   "source": [
    "minimap = plugins.MiniMap() #Se le pueden poner las propiedades del mapa base o unas diferentes\n",
    "m.add_child(minimap)"
   ]
  },
  {
   "cell_type": "markdown",
   "metadata": {},
   "source": [
    "### Agrupando información por geometría"
   ]
  },
  {
   "cell_type": "markdown",
   "metadata": {},
   "source": [
    "Para poder realizar mapas choloropeth, es necesario tener la información agrupada por geometría. Existen dos opciones para este procedimiento:\n",
    "\n",
    "- Dissolve: Función de geopandas (Puede demorar más tiempo)\n",
    "- Groupby: Haciendo una agrupación (Requiere un merge posterior para recuperar las geometrías)"
   ]
  },
  {
   "cell_type": "markdown",
   "metadata": {},
   "source": [
    "#### Dissolve"
   ]
  },
  {
   "cell_type": "code",
   "execution_count": null,
   "metadata": {},
   "outputs": [],
   "source": [
    "dissolved_barrios = prop_medellin.dissolve(by='properties.NOMBRE_BARRIO', aggfunc='count').reset_index()"
   ]
  },
  {
   "cell_type": "markdown",
   "metadata": {},
   "source": [
    "#### Groupby"
   ]
  },
  {
   "cell_type": "code",
   "execution_count": null,
   "metadata": {},
   "outputs": [],
   "source": [
    "columnas = ['properties.NOMBRE_BARRIO', 'tipo_inmueble']"
   ]
  },
  {
   "cell_type": "code",
   "execution_count": null,
   "metadata": {},
   "outputs": [],
   "source": [
    "grouped_barrios = prop_medellin[columnas].groupby('properties.NOMBRE_BARRIO').agg({'tipo_inmueble':'count'}).reset_index()"
   ]
  },
  {
   "cell_type": "code",
   "execution_count": null,
   "metadata": {},
   "outputs": [],
   "source": [
    "grouped_barrios"
   ]
  },
  {
   "cell_type": "code",
   "execution_count": null,
   "metadata": {},
   "outputs": [],
   "source": [
    "grouped_barrios = grouped_barrios.merge(geo_barrios, how='left', on='properties.NOMBRE_BARRIO')"
   ]
  },
  {
   "cell_type": "code",
   "execution_count": null,
   "metadata": {},
   "outputs": [],
   "source": [
    "grouped_barrios['geometry']"
   ]
  },
  {
   "cell_type": "markdown",
   "metadata": {},
   "source": [
    "### Creando el mapa chorolopeth"
   ]
  },
  {
   "cell_type": "code",
   "execution_count": null,
   "metadata": {},
   "outputs": [],
   "source": [
    "barrios_data = geo_barrios[['properties.NOMBRE_BARRIO', 'geometry']]"
   ]
  },
  {
   "cell_type": "code",
   "execution_count": null,
   "metadata": {},
   "outputs": [],
   "source": [
    "barrios_data['registros'] = np.random.randint(0,50, size=len(barrios_data))"
   ]
  },
  {
   "cell_type": "code",
   "execution_count": null,
   "metadata": {},
   "outputs": [],
   "source": [
    "barrios_data"
   ]
  },
  {
   "cell_type": "code",
   "execution_count": null,
   "metadata": {},
   "outputs": [],
   "source": [
    "barrios_data.rename(columns= {'properties.NOMBRE_BARRIO':'barrios'}, inplace=True)"
   ]
  },
  {
   "cell_type": "markdown",
   "metadata": {},
   "source": [
    "Existe una particularidad para este tipo de mapa y es que es necesario tener dos datasets uno con las geometrías y otro con el \n",
    "valor a agregar en el choloropeth"
   ]
  },
  {
   "cell_type": "code",
   "execution_count": null,
   "metadata": {},
   "outputs": [],
   "source": [
    "m = folium.Map(location =[6.2499717,-75.5780381], zoom_start = 12)\n",
    "geo_col = ['barrios','geometry']\n",
    "data_col = ['barrios','registros']\n",
    "\n",
    "for geometry in geo_barrios.geometry:\n",
    "    try:\n",
    "        folium.GeoJson(geometry).add_to(m)\n",
    "    except:continue\n",
    "\n",
    "\n",
    "choropleth = folium.Choropleth(\n",
    "    geo_data=barrios_data[geo_col],\n",
    "    name=\"choropleth\",\n",
    "    data=barrios_data[data_col],\n",
    "    columns=[\"barrios\", \"registros\"],\n",
    "    key_on=\"properties.barrios\",\n",
    "    fill_color=\"Reds\",\n",
    "    fill_opacity=0.5,\n",
    "    line_opacity=0.4,\n",
    "    highlight=True,\n",
    "    legend_name=\"Lotes disponibles por barrio\",\n",
    ").add_to(m)\n",
    "\n",
    "style_function = \"font-size: 11px; font-weight: bold\"\n",
    "choropleth.geojson.add_child(\n",
    "    folium.features.GeoJsonTooltip(['barrios'], style=style_function, labels=False))\n",
    "\n",
    "folium.LayerControl().add_to(m)\n",
    "\n",
    "display(m)"
   ]
  }
 ],
 "metadata": {
  "kernelspec": {
   "display_name": "Python 3",
   "language": "python",
   "name": "python3"
  },
  "language_info": {
   "codemirror_mode": {
    "name": "ipython",
    "version": 3
   },
   "file_extension": ".py",
   "mimetype": "text/x-python",
   "name": "python",
   "nbconvert_exporter": "python",
   "pygments_lexer": "ipython3",
   "version": "3.8.3"
  }
 },
 "nbformat": 4,
 "nbformat_minor": 4
}
