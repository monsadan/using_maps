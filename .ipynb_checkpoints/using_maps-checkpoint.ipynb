{
 "cells": [
  {
   "cell_type": "markdown",
   "metadata": {},
   "source": [
    "# Usando Folium y GeoPandas para generar información"
   ]
  },
  {
   "cell_type": "code",
   "execution_count": 6,
   "metadata": {},
   "outputs": [],
   "source": [
    "import pandas as pd\n",
    "import numpy as np\n",
    "usuario = 'DanielMonsalveMuñoz'"
   ]
  },
  {
   "cell_type": "markdown",
   "metadata": {},
   "source": [
    "### GeoPandas\n",
    "Se utiliza para realizar operaciones con información espacial"
   ]
  },
  {
   "cell_type": "code",
   "execution_count": 2,
   "metadata": {},
   "outputs": [],
   "source": [
    "import geopandas as gpd"
   ]
  },
  {
   "cell_type": "markdown",
   "metadata": {},
   "source": [
    "### Folium\n",
    "Se utiliza para generar los mapas interactivos"
   ]
  },
  {
   "cell_type": "code",
   "execution_count": 3,
   "metadata": {},
   "outputs": [],
   "source": [
    "import folium "
   ]
  },
  {
   "cell_type": "markdown",
   "metadata": {},
   "source": [
    "### Información para el ejemplo\n",
    "Se van a utilizar los datos qué tenemos disponibles para Medellín"
   ]
  },
  {
   "cell_type": "code",
   "execution_count": 10,
   "metadata": {},
   "outputs": [
    {
     "data": {
      "text/plain": [
       "(111467, 100)"
      ]
     },
     "execution_count": 10,
     "metadata": {},
     "output_type": "execute_result"
    }
   ],
   "source": [
    "#Leyendo propiedades\n",
    "path = r'/mnt/c/Users/{}/Pactia/Analítica & AI - Documentos/General/Bases de datos/Finca Raíz/fincaraiz_04_02_21.csv'\n",
    "propiedades = pd.read_csv(path.format(usuario))\n",
    "propiedades.drop_duplicates(subset='codigo_inmueble', inplace = True)\n",
    "propiedades.shape"
   ]
  },
  {
   "cell_type": "code",
   "execution_count": 11,
   "metadata": {},
   "outputs": [
    {
     "data": {
      "text/plain": [
       "(349, 11)"
      ]
     },
     "execution_count": 11,
     "metadata": {},
     "output_type": "execute_result"
    }
   ],
   "source": [
    "#Leyendo barrios\n",
    "barrios = pd.read_json('../Variables_Externas/Infraestructura_y_catastro/Historicos/Barrios_Veredas_medellin.json')\n",
    "barrios.shape"
   ]
  },
  {
   "cell_type": "code",
   "execution_count": 12,
   "metadata": {},
   "outputs": [
    {
     "data": {
      "text/plain": [
       "(10816, 8)"
      ]
     },
     "execution_count": 12,
     "metadata": {},
     "output_type": "execute_result"
    }
   ],
   "source": [
    "#Leyendo POT\n",
    "pot =  pd.read_excel('../Variables_Externas/Ordenamiento_territorial/Historicos/POT_UsoGeneralSueloMedellin.xlsx')\n",
    "pot.shape"
   ]
  },
  {
   "cell_type": "markdown",
   "metadata": {},
   "source": [
    "Para poder utilizar geopandas es necesario tener una columna de geometría qué es la qué las funciones van a reconocer \n",
    "y procesar, la información debe estar en el siguiente formato:\n",
    "\n",
    "**(Tipo de figura)(puntos de la figura)**\n",
    "\n",
    "Ejemplo:\n",
    "\n",
    "POINT (-75.69231 4.52666)"
   ]
  }
 ],
 "metadata": {
  "kernelspec": {
   "display_name": "Python 3",
   "language": "python",
   "name": "python3"
  },
  "language_info": {
   "codemirror_mode": {
    "name": "ipython",
    "version": 3
   },
   "file_extension": ".py",
   "mimetype": "text/x-python",
   "name": "python",
   "nbconvert_exporter": "python",
   "pygments_lexer": "ipython3",
   "version": "3.8.3"
  }
 },
 "nbformat": 4,
 "nbformat_minor": 4
}
